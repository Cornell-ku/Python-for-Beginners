{
  "nbformat": 4,
  "nbformat_minor": 0,
  "metadata": {
    "colab": {
      "provenance": [],
      "collapsed_sections": [
        "smw9884O3MQH",
        "kRSOWPLB6PmV",
        "tJGc4s5ZE9WD",
        "4wO6YZib4XDO",
        "nI4Ws_dNiqlv"
      ],
      "toc_visible": true,
      "include_colab_link": true
    },
    "kernelspec": {
      "name": "python3",
      "display_name": "Python 3"
    },
    "language_info": {
      "name": "python"
    }
  },
  "cells": [
    {
      "cell_type": "markdown",
      "metadata": {
        "id": "view-in-github",
        "colab_type": "text"
      },
      "source": [
        "<a href=\"https://colab.research.google.com/github/Cornell-ku/Python-for-Beginners/blob/main/BIN_Python_Workshop.ipynb\" target=\"_parent\"><img src=\"https://colab.research.google.com/assets/colab-badge.svg\" alt=\"Open In Colab\"/></a>"
      ]
    },
    {
      "cell_type": "markdown",
      "source": [
        "<img align=\"left\" width=\"300\" >\n",
        "\n",
        "![blackinneuroweek.jpg](data:image/jpeg;base64,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)\n",
        "    \n",
        "# **Introduction to Python for Beginners**\n",
        "## Black in Neuro  <br> 31 July, 2024"
      ],
      "metadata": {
        "id": "nIGMlO-m11yk"
      }
    },
    {
      "cell_type": "markdown",
      "source": [
        "\n",
        "<!-- **By Black in Neuro and TReND school in Comp Neuro and ML** -->\n",
        "\n",
        "\n",
        "\n",
        "__Content creators:__\n",
        " - Elizabeth Cornell Awuku\n",
        " - Nathaniel Adibuer\n",
        " - Mahmoud Elmakki\n",
        "\n"
      ],
      "metadata": {
        "id": "-FadfjAN19la"
      }
    },
    {
      "cell_type": "markdown",
      "source": [
        "---\n",
        "# Learning Objective\n",
        "\n",
        "\n",
        "- Understand the fundamental concepts of Python and write basic scripts\n",
        "\n",
        "- learn about variables and data types\n",
        "- Learn how to manipulate strings\n",
        "- Learn how to get user input and display output\n",
        "- Understand and use control structures in Python.\n",
        "- Learn how to define and use functions.\n",
        "- Able to work with basic data structures.\n",
        "- Get acquainted to data analysis using Pandas.\n",
        "- Create basic data visualizations using Pandas."
      ],
      "metadata": {
        "id": "m491YXCv2FmY"
      }
    },
    {
      "cell_type": "markdown",
      "source": [
        "# **Introduction to Python (5 minutes)**\n"
      ],
      "metadata": {
        "id": "kRJU6_gi22dC"
      }
    },
    {
      "cell_type": "markdown",
      "source": [
        "**i. What is Python?**\n",
        "\n",
        "Python is a high-level programming language and an open source freeware that emphasizes code readability and simple syntax.\n",
        "\n",
        "**ii. Role of Python**\n",
        "\n",
        "- **Web Development**:\n",
        "\n",
        "Python is widely used for web development\n",
        " - **Data Science and Analytics**:\n",
        "\n",
        "  Python is a preferred language in data science for data analysis, visualization, and manipulation.\n",
        "\n",
        " - **Machine Learning and Artificial Intelligence**:\n",
        "\n",
        "  Python is extensively used in machine learning and AI due to its powerful libraries and frameworks such as TensorFlow,PyTorch, and Scikit-learn.\n",
        "\n",
        "- **Scientific Computing**: Python is used for scientific computing and research. Libraries like SciPy and SymPy provide tools for complex mathematical computations.\n",
        "- **Automation and Scripting**: Python is ideal for scripting and automating repetitive tasks, which makes it popular for system administration, software testing, and other automation tasks.\n",
        "\n",
        "- **Software Development**: Python is used for building and managing software applications. Its simplicity and readability make it a good choice for prototyping and agile development processes.\n",
        "\n",
        "- **Embedded Systems**: Python can be used to program embedded systems, making it possible to develop software for small devices with limited resources.\n",
        "\n",
        "\n",
        "\n",
        "**iii. Advantages of Python**\n",
        "\n",
        "\n",
        "\n",
        "- **Simple and Readable Syntax:**\n",
        "\n",
        "Relative to other programming languages Python is designed to have a simple syntax that is easy to read. This greatly saves time and cost of program maintenance.\n",
        "\n",
        "- **Versatility:**\n",
        "\n",
        "Python is a versatile language used in various domains, including web development, data science, machine learning, artificial intelligence, scientific computing, automation, and more.\n",
        "\n",
        "- **Large Standard Library**:\n",
        "\n",
        " Python comes with a vast standard library that provides support for many common tasks and functionalities, reducing the need for additional modules or packages.\n",
        "\n",
        "- **Community and Ecosystem**:\n",
        "\n",
        " Python has a large and active community of developers who contribute to its growth and provide support through forums, tutorials, and open-source projects. Additionally, Python has a rich ecosystem of third-party libraries and frameworks that extend its functionality for different purposes.\n",
        "\n",
        "- **Strong Support for Integration**:\n",
        "\n",
        " Python can easily integrate with other languages and technologies, making it suitable for building complex systems and applications.\n"
      ],
      "metadata": {
        "id": "crQ8YUOP27mh"
      }
    },
    {
      "cell_type": "markdown",
      "source": [
        "Before we get into details we have to complete **a rite of passage** that would emerge you into Python and officially make you a programmer.😀\n",
        "\n",
        " We need to print the phrase “Hello, World” on the screen."
      ],
      "metadata": {
        "id": "aTAE-y0C2-na"
      }
    },
    {
      "cell_type": "code",
      "source": [
        "#Print \"Hello, World\""
      ],
      "metadata": {
        "id": "yDMDb6_w3IyV"
      },
      "execution_count": null,
      "outputs": []
    },
    {
      "cell_type": "markdown",
      "source": [
        "A **function** is a code that performs some task and can be invoked by a\n",
        "name. The above code invokes, or calls, the print() function with the\n",
        "text \"Hello, World\" as output.\n",
        "\n",
        "The parentheses tells Python to call the print() function. They also enclose everything that gets sent to the function as input. The quotation\n",
        "marks indicate that \"Hello, World\" really is text and not something\n",
        "else."
      ],
      "metadata": {
        "id": "8WlXWkVd4MW7"
      }
    },
    {
      "cell_type": "markdown",
      "source": [
        "#**Basic Python Syntax**\n",
        "\n",
        "\n",
        "\n",
        "\n",
        "\n",
        "\n"
      ],
      "metadata": {
        "id": "smw9884O3MQH"
      }
    },
    {
      "cell_type": "markdown",
      "source": [
        "###Variables and data type"
      ],
      "metadata": {
        "id": "dLRFDrpliB8d"
      }
    },
    {
      "cell_type": "markdown",
      "source": [
        "**Variables** are simply names that can be assigned a value and then\n",
        "used to refer to that value throughout your code.\n",
        "\n",
        ">**Why are variables so important?**\n",
        "1. **Variables** keep values accessible: For example, you can assign the result of some time-consuming operation to a variable so\n",
        "that your program doesn’t have to perform the operation each time\n",
        "you need to use the result. Think of a variable as a container that holds data.\n",
        "2. **Variables** give values context: Just the number 20 could mean\n",
        "different things, such as the number of students in a class, the\n",
        "number of times a user has accessed a website, and so on. Thus, giving\n",
        "this value a name like num_times makes the meaning of the\n",
        "value clear.\n"
      ],
      "metadata": {
        "id": "Q5g6Pgj-3kI_"
      }
    },
    {
      "cell_type": "markdown",
      "source": [
        "**Declaring a Variable**\n",
        "\n",
        "To declare a variable, you typically need to:\n",
        "\n",
        "i. Choose a name for the variable.\n",
        "\n",
        "ii. Assign a value to it\n",
        "\n",
        "**Assignment Operator**\n",
        "\n",
        " Values are assigned to variable names using a special symbol called\n",
        "the assignment operator (=) . The (=) operator takes the value to the\n",
        "right of the operator and assigns it to the name on the left.\n",
        "\n"
      ],
      "metadata": {
        "id": "JxOFMt7e3pEu"
      }
    },
    {
      "cell_type": "code",
      "source": [
        "#Assign \"Hello, World\" to the variable greeting\n",
        "\n",
        "#Print the variable called greeting\n",
        "\n"
      ],
      "metadata": {
        "id": "lRcMeW515PFB"
      },
      "execution_count": null,
      "outputs": []
    },
    {
      "cell_type": "markdown",
      "source": [
        "On the first line, you create a variable named greeting and assign it the\n",
        "value \"Hello, World\" using the = operator. What you should also note is that, **variable names are case sensitive**, so a variable named *greeting* is not the same as a variable named *Greeting*. For instance lets print the following"
      ],
      "metadata": {
        "id": "wAC8gdoz8QmP"
      }
    },
    {
      "cell_type": "code",
      "source": [
        "#Instance of using a wrong variabble name\n",
        "greeting = \"Hello, World\"\n",
        "print(Greeting)\n"
      ],
      "metadata": {
        "colab": {
          "base_uri": "https://localhost:8080/",
          "height": 182
        },
        "id": "aNIxnqKB-X1l",
        "outputId": "fefe1b62-0b65-404d-bdad-21e48b80b418"
      },
      "execution_count": null,
      "outputs": [
        {
          "output_type": "error",
          "ename": "NameError",
          "evalue": "name 'Greeting' is not defined",
          "traceback": [
            "\u001b[0;31m---------------------------------------------------------------------------\u001b[0m",
            "\u001b[0;31mNameError\u001b[0m                                 Traceback (most recent call last)",
            "\u001b[0;32m<ipython-input-70-4c1cd2c510cc>\u001b[0m in \u001b[0;36m<cell line: 3>\u001b[0;34m()\u001b[0m\n\u001b[1;32m      1\u001b[0m \u001b[0;31m#Instance of using a wrong variabble name\u001b[0m\u001b[0;34m\u001b[0m\u001b[0;34m\u001b[0m\u001b[0m\n\u001b[1;32m      2\u001b[0m \u001b[0mgreeting\u001b[0m \u001b[0;34m=\u001b[0m \u001b[0;34m\"Hello, World\"\u001b[0m\u001b[0;34m\u001b[0m\u001b[0;34m\u001b[0m\u001b[0m\n\u001b[0;32m----> 3\u001b[0;31m \u001b[0mprint\u001b[0m\u001b[0;34m(\u001b[0m\u001b[0mGreeting\u001b[0m\u001b[0;34m)\u001b[0m\u001b[0;34m\u001b[0m\u001b[0;34m\u001b[0m\u001b[0m\n\u001b[0m",
            "\u001b[0;31mNameError\u001b[0m: name 'Greeting' is not defined"
          ]
        }
      ]
    },
    {
      "cell_type": "markdown",
      "source": [
        "You just had you first NameError. On that note always keep an eye on how you define your variables."
      ],
      "metadata": {
        "id": "c4rkc783-iQJ"
      }
    },
    {
      "cell_type": "code",
      "source": [
        "#Let's take a look at more variable and what value you can assign to them\n",
        "age = 25\n",
        "name = \"Alice\"\n",
        "is_student = True\n"
      ],
      "metadata": {
        "id": "BXgOI6DE5R-V"
      },
      "execution_count": null,
      "outputs": []
    },
    {
      "cell_type": "markdown",
      "source": [
        "**age** is a variable storing the number 25.\n",
        "\n",
        "**name** is a variable storing the string \"Alice\".\n",
        "\n",
        "**is_student** is a variable storing the boolean value True.\n",
        "\n",
        "With a look at these examples, let us jump into Data types."
      ],
      "metadata": {
        "id": "WwdbYLGe58yB"
      }
    },
    {
      "cell_type": "markdown",
      "source": [
        "### Data Types\n",
        "\n",
        "\n",
        "\n"
      ],
      "metadata": {
        "id": "kRSOWPLB6PmV"
      }
    },
    {
      "cell_type": "markdown",
      "source": [
        "A **data type** determines the kind of data a variable can hold. Common data types include:\n",
        "\n",
        "**Integer:** Whole numbers (e.g., 1, 42, -5)\n",
        "\n",
        "**Float:** Decimal numbers (e.g., 3.14, -0.001, 2.0)\n",
        "\n",
        "**String:** Sequence of characters (e.g., \"Hello\", \"Python\", \"123\")\n",
        "\n",
        "**Boolean:** True or False values (e.g., True, False)\n",
        "\n",
        "**List:** Ordered collection of items (e.g., [1, 2, 3], [\"apple\", \"banana\"])\n",
        "\n",
        "**Dictionary:** Collection of key-value pairs (e.g., {\"name\": \"Alice\", \"age\": 25})"
      ],
      "metadata": {
        "id": "pSGouJebi1jn"
      }
    },
    {
      "cell_type": "code",
      "source": [
        "# Create variables\n",
        "Nat_age = 20 #integer\n",
        "his_temperature = 98.6 #float\n",
        "message = \"Hello!\" #string\n",
        "is_female = False #boolean\n",
        "items = [\"pen\", \"notebook\", \"eraser\"] #list\n",
        "friend = {\"name\": \"John\", \"age\": 30} #dictionary\n",
        "\n",
        "#Print variables\n",
        "#print(Nat_age)\n",
        "#print(his_temperature)\n",
        "#print(message)\n",
        "#print(is_female)\n",
        "#print(items)\n",
        "#print(friend)"
      ],
      "metadata": {
        "id": "uLgV0632AyPK"
      },
      "execution_count": null,
      "outputs": []
    },
    {
      "cell_type": "markdown",
      "source": [
        "Now we know the various data types a variable can hold. Let us explore some mathematical operations."
      ],
      "metadata": {
        "id": "xXkTI92A_vZK"
      }
    },
    {
      "cell_type": "markdown",
      "source": [
        "###Arithmetic operations"
      ],
      "metadata": {
        "id": "zqDuFbpSdhd5"
      }
    },
    {
      "cell_type": "markdown",
      "source": [
        "In python, arithmetic operators are used to compute mathematical operations. You already know a few like addtion (+), subtraction (-), division (/) and  multiplication(*). There are other intresting arithmetic operators that we will talk about.  \n",
        "\n",
        "**Floor Division (//)**: this is similar to division however, its result is an interger rounded down.\n",
        "\n",
        "**Modulus (%):** this computes the remainder after division.\n",
        "\n",
        "**Exponentiation ( ** ):** Raises the first value to the power of the second."
      ],
      "metadata": {
        "id": "SdOCnwUTeIyD"
      }
    },
    {
      "cell_type": "code",
      "source": [
        "# This is a simple calculation\n",
        "x = 5   # assigning an interger to x\n",
        "y = 10 # assigning an integer to y\n",
        "sum = x + y # add two variables\n",
        "print(sum)  # printing the sum"
      ],
      "metadata": {
        "id": "0FwJs8gpAAfq",
        "colab": {
          "base_uri": "https://localhost:8080/"
        },
        "outputId": "d7c9a32b-4a13-4a9a-b7cf-4254e3d6a922"
      },
      "execution_count": null,
      "outputs": [
        {
          "output_type": "stream",
          "name": "stdout",
          "text": [
            "15\n"
          ]
        }
      ]
    },
    {
      "cell_type": "markdown",
      "source": [
        "From our simple calculation above, you can see some sort of a description for everyline (after #). Programmers tend to forget what exactly their codes do after some time and not everyone can determine what your codes do. To avoid this, you should leave **comments** in your code.\n",
        "\n",
        "**Comments** are lines of text that documents what a code does or why the programmer made certain decisions.\n",
        "\n",
        "*Pretend its that small still voice in your head guiding you.* 🗣"
      ],
      "metadata": {
        "id": "77EjLOs8CiPe"
      }
    },
    {
      "cell_type": "code",
      "source": [
        "# Now convert the variable decimal_float = 0.345667 to decimal_int\n",
        "---------\n",
        "----------\n",
        "\n",
        "# print decimal_int\n",
        "-------"
      ],
      "metadata": {
        "colab": {
          "base_uri": "https://localhost:8080/",
          "height": 110
        },
        "id": "viMFYmh00Bhf",
        "outputId": "604073a2-bbdc-4fcb-b608-043845558ca6"
      },
      "execution_count": null,
      "outputs": [
        {
          "output_type": "error",
          "ename": "SyntaxError",
          "evalue": "invalid syntax (<ipython-input-96-ef567e0266a1>, line 2)",
          "traceback": [
            "\u001b[0;36m  File \u001b[0;32m\"<ipython-input-96-ef567e0266a1>\"\u001b[0;36m, line \u001b[0;32m2\u001b[0m\n\u001b[0;31m    ---------\u001b[0m\n\u001b[0m             ^\u001b[0m\n\u001b[0;31mSyntaxError\u001b[0m\u001b[0;31m:\u001b[0m invalid syntax\n"
          ]
        }
      ]
    },
    {
      "cell_type": "markdown",
      "source": [
        "Can you use arithmetic operations on Booleans?"
      ],
      "metadata": {
        "id": "v8HL3EGhxJ7Z"
      }
    },
    {
      "cell_type": "markdown",
      "source": [
        "###Try this\n",
        "\n",
        "Lets get a little mental. 😃\n",
        "\n",
        "pick two numbers and use the floor division operator to obtain 1\n",
        "\n",
        "pick two numbers and use the modulus operrator to obtain 1"
      ],
      "metadata": {
        "id": "WxxPbGAYeTyL"
      }
    },
    {
      "cell_type": "markdown",
      "source": [
        "###Strings and String Methods"
      ],
      "metadata": {
        "id": "tJGc4s5ZE9WD"
      }
    },
    {
      "cell_type": "markdown",
      "source": [
        "A Collection of text in Python are called **strings**. Special functions\n",
        "called **string methods** are used to manipulate strings. There are\n",
        "string methods for changing a string from lowercase to uppercase, removing whitespace from the beginning or end of a string, replacing\n",
        "parts of a string with different text, and much more.\n",
        "\n",
        "Yup, Strings are awesome!\n"
      ],
      "metadata": {
        "id": "zE3KO2WWJQoJ"
      }
    },
    {
      "cell_type": "markdown",
      "source": [
        "**What are Strings?**\n",
        "\n",
        "In plain words strings are used to represent texts in Python. We have already stated that strings are part of the fundamental data type in Python."
      ],
      "metadata": {
        "id": "NQPGsf-NJxXz"
      }
    },
    {
      "cell_type": "code",
      "source": [
        "type(\"Hello, World\") #type is used to to check the type of data you have\n"
      ],
      "metadata": {
        "id": "GaNlr0hlEzMF",
        "colab": {
          "base_uri": "https://localhost:8080/"
        },
        "outputId": "22cb1cc4-e6bc-45f3-ec47-cff95380a4b1"
      },
      "execution_count": null,
      "outputs": [
        {
          "output_type": "execute_result",
          "data": {
            "text/plain": [
              "str"
            ]
          },
          "metadata": {},
          "execution_count": 1
        }
      ]
    },
    {
      "cell_type": "markdown",
      "source": [
        "The output <class 'str'> indicates that the value \"Hello, World\" is an\n",
        "instance of the str data type."
      ],
      "metadata": {
        "id": "b0JNiSv0Dxac"
      }
    },
    {
      "cell_type": "code",
      "source": [
        "# type() also works for values that have been assigned to a variable:\n",
        "text = \"Hello, World\"\n",
        "type(text)\n"
      ],
      "metadata": {
        "id": "tRGAQQ3_MTJ-",
        "colab": {
          "base_uri": "https://localhost:8080/"
        },
        "outputId": "23732819-51ea-4843-8292-7e902c9da60c"
      },
      "execution_count": null,
      "outputs": [
        {
          "output_type": "execute_result",
          "data": {
            "text/plain": [
              "str"
            ]
          },
          "metadata": {},
          "execution_count": 2
        }
      ]
    },
    {
      "cell_type": "markdown",
      "source": [
        "**Strings** have three important properties:\n",
        "\n",
        "i. Strings contain individual letters or symbols called characters.\n",
        "\n",
        "ii.Strings have a length, defined as the number of characters the\n",
        "string contains.\n",
        "\n",
        "iii.  Characters in a string appear in a sequence, which means that\n",
        "each character has a numbered position in the string.\n",
        "\n"
      ],
      "metadata": {
        "id": "sH338fNcNBX8"
      }
    },
    {
      "cell_type": "code",
      "source": [
        "string1= 'I love Neuroscience'\n",
        "string2= 'I am awesome!, \"yeah you are\"'\n",
        "print(string2)"
      ],
      "metadata": {
        "id": "y3_IgZ4HNDUS",
        "colab": {
          "base_uri": "https://localhost:8080/"
        },
        "outputId": "dc16a984-67bd-44dd-efc3-1108ff8e1891"
      },
      "execution_count": null,
      "outputs": [
        {
          "output_type": "stream",
          "name": "stdout",
          "text": [
            "I am awesome!, \"yeah you are\"\n"
          ]
        }
      ]
    },
    {
      "cell_type": "markdown",
      "source": [
        "**Determine the length of a string**\n",
        "\n",
        "The length of a String comprises of the space and number of characters in the string.\n",
        "\n",
        "*Let's verify this :*"
      ],
      "metadata": {
        "id": "kBVjKJ1zPKCY"
      }
    },
    {
      "cell_type": "code",
      "source": [
        "len(\"Black\")\n",
        "#can you guess the len of string1 in the example above?\n",
        "#len(string1)"
      ],
      "metadata": {
        "id": "Ds-A-V3VP8Km",
        "colab": {
          "base_uri": "https://localhost:8080/"
        },
        "outputId": "5a1cf997-2836-4c4f-88e3-2cf108245d58"
      },
      "execution_count": null,
      "outputs": [
        {
          "output_type": "execute_result",
          "data": {
            "text/plain": [
              "5"
            ]
          },
          "metadata": {},
          "execution_count": 7
        }
      ]
    },
    {
      "cell_type": "markdown",
      "source": [
        "You can also use len() to get the length of a string that is assigned to a\n",
        "variable:"
      ],
      "metadata": {
        "id": "HqyLj59NQNuZ"
      }
    },
    {
      "cell_type": "code",
      "source": [
        "color= \"Black\"\n",
        "len(color)"
      ],
      "metadata": {
        "id": "WRuJZqR3QZCO",
        "colab": {
          "base_uri": "https://localhost:8080/"
        },
        "outputId": "14b59710-3d37-46d8-da96-66861f51ef63"
      },
      "execution_count": null,
      "outputs": [
        {
          "output_type": "execute_result",
          "data": {
            "text/plain": [
              "5"
            ]
          },
          "metadata": {},
          "execution_count": 8
        }
      ]
    },
    {
      "cell_type": "markdown",
      "source": [
        "###Concatenation"
      ],
      "metadata": {
        "id": "4wO6YZib4XDO"
      }
    },
    {
      "cell_type": "markdown",
      "source": [
        "Concatenation is another important tool that is widely used in conjunction with **Strings**. It is used to join two or more **strings** together."
      ],
      "metadata": {
        "id": "dBAWyDN-o3Qv"
      }
    },
    {
      "cell_type": "code",
      "source": [
        "#example\n",
        "awards = 50 #number of awards\n",
        "monthly_awards = 5 #monthly awards\n",
        "num_months = 12 #number of months\n",
        "new_awards = monthly_awards * num_months #new awards\n",
        "total_awards = new_awards + awards\n",
        "\n",
        "#Concatenating strings with assigned values\n",
        "#Print out \"Black in Neuro gave out \" + awards + \" awards last year. Perhaps this year they will give out\" + total_awards + \" awards.\"\n"
      ],
      "metadata": {
        "id": "yiU7QoMKQe2C"
      },
      "execution_count": null,
      "outputs": []
    },
    {
      "cell_type": "markdown",
      "source": [
        "The TypeError tell us that we cannot concatenate or join different data type. That is string and integer in this case. Concatenatioin works when you are working with the same data type. We have to change the values **awards** and **total_awards** to string (str(awards) and str(total_awards)) . We do this by using the functions such as int( ), float( ) and bool( ) to convert the Python values into any type."
      ],
      "metadata": {
        "id": "9o8fnmvd3oDs"
      }
    },
    {
      "cell_type": "code",
      "source": [
        "#Correcting the TypeError  by converting the intergers to strings using str( )\n",
        "print(\"Black in Neuro gave out \" + str(awards) + \" awards last year. Perhaps this year they will give out \" + str(total_awards) + \" awards.\" )"
      ],
      "metadata": {
        "id": "ovxBwqW1y0r9",
        "colab": {
          "base_uri": "https://localhost:8080/"
        },
        "outputId": "88b28266-1590-4667-b0c0-c92dfc49dcf8"
      },
      "execution_count": null,
      "outputs": [
        {
          "output_type": "stream",
          "name": "stdout",
          "text": [
            "Black in Neuro gave out 50 awards last year. Perhaps this year they will give out 110 awards.\n"
          ]
        }
      ]
    },
    {
      "cell_type": "markdown",
      "source": [
        "###Intereact with User Input\n",
        "We have looked at assigning values to varibales and data types. What we will look at next is how we can accept information from a user. Luckly Python has an in built funtion that is able to recieve and information."
      ],
      "metadata": {
        "id": "nI4Ws_dNiqlv"
      }
    },
    {
      "cell_type": "markdown",
      "source": [
        "###Try this\n",
        "Ask for a number from a user and triple it.\n",
        "Print \"Here is your number tripled : < your number> \""
      ],
      "metadata": {
        "id": "cUbKis5AAaF2"
      }
    },
    {
      "cell_type": "code",
      "source": [
        "#user input example 1\n",
        "#Provide your name\n",
        "first_name = input(\"What is your name? \")\n",
        "print(\"Hello,\"+ first_name + \" welcome to BIN Python Workshop.\")"
      ],
      "metadata": {
        "colab": {
          "base_uri": "https://localhost:8080/"
        },
        "id": "UvwMFMsFi4dg",
        "outputId": "7168087a-1e0c-4f53-d40a-4700f1791c8c"
      },
      "execution_count": null,
      "outputs": [
        {
          "output_type": "stream",
          "name": "stdout",
          "text": [
            "What is your name? andy\n",
            "Hello,andy welcome to BIN Python Workshop.\n"
          ]
        }
      ]
    },
    {
      "cell_type": "code",
      "source": [
        "#user input example 2\n",
        "#x= int(input(\"provide your number: \"))\n",
        "#y = x * 3\n",
        "#print(\"Here is your number tripled : \" + str(y))"
      ],
      "metadata": {
        "id": "GUdmr0Ubnq4x"
      },
      "execution_count": null,
      "outputs": []
    },
    {
      "cell_type": "markdown",
      "source": [
        "###Try this\n",
        "\n",
        "\n",
        "1.   Create a variable **awards** with the value of 50 and print it.\n",
        "2.Create the variables **monthly_awards** and **num_months** and assign 5 and 12 respectively.\n",
        "3. Multiply **monthly_awards** and **num_months** to obtain  a variable called **new_awards**\n",
        "4. Add **new_awards** to your **awards** to get **total_awards** (total_awards =--------)\n",
        "5. Print **total_awards**.\n",
        "6. Then ask a BIN Administrator the total nummber of awards they expect to give out.\n",
        "7. Print \"Your expected number is ____ but this is the < total awards> that would be given out.\n",
        "\n"
      ],
      "metadata": {
        "id": "WJJVKqZTk8GS"
      }
    },
    {
      "cell_type": "code",
      "source": [
        "# @title Code\n",
        "awards = 50 #number of awards\n",
        "#print(awards)\n",
        "\n",
        "monthly_awards = 5 #monthly awards\n",
        "num_months = 12 #number of months\n",
        "\n",
        "new_awards = monthly_awards * num_months #new awards\n",
        "#print(new_awards)\n",
        "\n",
        "total_awards = new_awards + awards\n",
        "print('total awards : ', total_awards)"
      ],
      "metadata": {
        "id": "FCloWPeOoiXg",
        "cellView": "form"
      },
      "execution_count": null,
      "outputs": []
    },
    {
      "cell_type": "markdown",
      "source": [
        "###Try this\n",
        "* Which of these would give us an error?\n",
        "* True + False\n",
        "* \"I can add integers, like \" + str(5) + \" to strings.\"\n",
        "* \"let's shout out \" + (\"Hurray!!! \" * 2) + \"Hipppyy!\"\n",
        "* \"The correct answer to this exercise is \" + 1800\n"
      ],
      "metadata": {
        "id": "Kg479j9y2nPm"
      }
    },
    {
      "cell_type": "markdown",
      "source": [
        " # **Basic Data Structures**"
      ],
      "metadata": {
        "id": "ywhxDxwWsxlc"
      }
    },
    {
      "cell_type": "markdown",
      "source": [
        "## Lists and Tuples"
      ],
      "metadata": {
        "id": "UMQEAnx5jZ_k"
      }
    },
    {
      "cell_type": "markdown",
      "source": [
        "Lists are used to store a collection of items in Python. To create a list we use the square brackets **[  ]** .\n",
        "\n",
        "Let's say you create a shopping list and you are asked to count the number of items in your list. Conventionally, you would start with \"1, 2, 3, 4 ...\" but with **Lists** in Python, items are indexed from \"0, 1, 2, ...\"  \n",
        "\n",
        "In James' shopping list he has (apple, pen, cake, ginger and tissue). Maintaining this order, when asked what the postion of cake is in the list, it would not be 3 but 2 in Python. This is because in Python items are zero-indexed, so start counting from 0."
      ],
      "metadata": {
        "id": "Lm8t1SrYs0zp"
      }
    },
    {
      "cell_type": "code",
      "source": [
        "#Example of Lists\n",
        "#Create James' shopping list and assign to shopping_list\n",
        "\n",
        "#Create a sample of BIN student ages and assign to BIN_ages\n",
        "\n",
        "#Create an empty list\n",
        "\n",
        "\n",
        "#Finding the positions of items in the  shopping list\n",
        "# print(shopping_list[0], \"- 0 position\") # position of apple\n",
        "# print(shopping_list[1], \"- 1 position\") # posotion of pen\n",
        "# print(shopping_list[2], \"- 2 position\") # cake\n",
        "# print(shopping_list[3], \"- 3 position\") # ginger\n",
        "\n",
        "#if you do not know the position of an item in a list\n",
        "# print(shopping_list.index(\"tissue\"), \" is the position for tissue\")\n",
        "\n",
        "#Finding an item is indeed in a list\n",
        "#print(\"apple\" in shopping_list)  #checking if apple is in our shopping list\n",
        "#print (50 in BIN_ages) #checking if 50 is a BIN participant age\n",
        "#print( \"pen\" in emptylist) #checking if pen is in our emptylist\n",
        "\n",
        "#Prints the total number of items in a list\n",
        "# print(len(shopping_list))"
      ],
      "metadata": {
        "id": "dOhqaoV2u8LY"
      },
      "execution_count": null,
      "outputs": []
    },
    {
      "cell_type": "markdown",
      "source": [
        "What if you have an already existing list and what to add more items to this list. Let's take a look at how to handle that."
      ],
      "metadata": {
        "id": "Bru0qO7eCLWi"
      }
    },
    {
      "cell_type": "code",
      "source": [
        "# @title code\n",
        "shopping_list.append(\"coffee pods\")\n",
        "#shopping_list += [\"Pepsi\"]\n",
        "print(shopping_list)"
      ],
      "metadata": {
        "id": "GXezriEbCVrC",
        "collapsed": true,
        "cellView": "form"
      },
      "execution_count": null,
      "outputs": []
    },
    {
      "cell_type": "code",
      "source": [
        "#Adding an item to a list\n",
        "a = [\"apple\", \"banana\", \"cherry\"]\n",
        "b = [\"Ford\", \"BMW\", \"Volvo\"]\n",
        "\n",
        "#add pineapple to list a\n",
        "\n",
        "#print(\"list a : \" ,a)\n",
        "\n",
        "#add pineapple to list a but before cherry\n",
        "\n",
        "#print(\"list a1 : \" , a)\n"
      ],
      "metadata": {
        "id": "wuMYZQCKEnDU"
      },
      "execution_count": null,
      "outputs": []
    },
    {
      "cell_type": "code",
      "source": [
        "#Adding a list to another list\n",
        "#Add list a to b\n",
        "\n",
        "#print(a)"
      ],
      "metadata": {
        "id": "4hmMIpPok_ad"
      },
      "execution_count": null,
      "outputs": []
    },
    {
      "cell_type": "markdown",
      "source": [
        "###List slicing\n",
        "\n",
        "With list slicing you can acess a list and create a sublist with new modifications without influcing the orginal list created.\n",
        "The syntax for slicing is **list[start:stop:step]**, where:\n",
        "\n",
        "* **start** is the index where the slice begins (inclusive)\n",
        "* **stop** is the index where the slice ends (exclusive)\n",
        "* **step** is the interval between each index (optional)\n",
        "\n",
        "Let's take a practical look at this. 👀"
      ],
      "metadata": {
        "id": "pOccq2J9s_uO"
      }
    },
    {
      "cell_type": "markdown",
      "source": [],
      "metadata": {
        "id": "p-DfZ3blxY7C"
      }
    },
    {
      "cell_type": "code",
      "source": [
        "#create a list of counting number"
      ],
      "metadata": {
        "id": "GCX6c5dRtpvj"
      },
      "execution_count": null,
      "outputs": []
    },
    {
      "cell_type": "markdown",
      "source": [
        "##Dictionary and Sets\n"
      ],
      "metadata": {
        "id": "Vta0D63wfWWQ"
      }
    },
    {
      "cell_type": "markdown",
      "source": [
        "####Dictionaries\n",
        "A dictionary is a collection of key-value pairs. Each key is unique and maps to a specific value. Dictionaries are useful for storing data that has a meaningful association, like a word and its definition or a name and a phone number."
      ],
      "metadata": {
        "id": "sjrpm6dgfbZ3"
      }
    },
    {
      "cell_type": "code",
      "source": [
        "# Creating an empty dictionary\n",
        "my_dict = {} # dictionarires are created with these curly brackets and \":\" is used to assign a specific value to a unique key\n",
        "\n",
        "#Now let us assign values to our defined variable \"my_dict\"\n",
        "# Creating a dictionary with initial values under the variable \"my_dict\"\n",
        "my_dict = {\"key1\": \"value1\", \"key2\": \"value2\"}\n",
        "#print(my_dict)\n",
        "\n",
        "# Dictionary of BIN participant names and their ages\n",
        "BIN_ages = {\"Andy\": 30, \"Elisa\": 25, \"Charlie\": 45, \"David\": 30}\n",
        "\n",
        "# Accessing Andy's age in our dictionary\n",
        "print(BIN_ages[\"Andy\"])\n",
        "\n",
        "# Adding a new key-value pair to our BIN dictionary\n",
        "BIN_ages[\"Eve\"] = 33\n",
        "print(BIN_ages)\n",
        "\n",
        "# Modifying an existing value\n",
        "BIN_ages[\"Charlie\"] = 26\n",
        "print(BIN_ages)\n",
        "\n",
        "# Removing a key-value pair\n",
        "del BIN_ages[\"Charlie\"] #removes Charlie from our data\n",
        "print(BIN_ages)\n"
      ],
      "metadata": {
        "id": "Bc4wDJlOfsso",
        "colab": {
          "base_uri": "https://localhost:8080/"
        },
        "outputId": "81199d77-e1e0-4e62-d243-b2b9534ecf6f"
      },
      "execution_count": null,
      "outputs": [
        {
          "output_type": "stream",
          "name": "stdout",
          "text": [
            "30\n",
            "{'Andy': 30, 'Elisa': 25, 'Charlie': 45, 'David': 30, 'Eve': 33}\n",
            "{'Andy': 30, 'Elisa': 25, 'Charlie': 26, 'David': 30, 'Eve': 33}\n",
            "{'Andy': 30, 'Elisa': 25, 'David': 30, 'Eve': 33}\n"
          ]
        }
      ]
    },
    {
      "cell_type": "markdown",
      "source": [
        "#### Sets\n",
        "A set is an unordered collection of unique elements. Sets are useful when you need to store non-duplicate items and perform operations like union, intersection, and difference."
      ],
      "metadata": {
        "id": "uI3CPBLxf70-"
      }
    },
    {
      "cell_type": "code",
      "source": [
        "# Creating an empty set\n",
        "my_set = set() #Using {} will create an empty dictionary, not a set. So, always use set() to create an empty set\n",
        "print(my_set)  # Output: set(\n",
        "# Creating a set with initial values\n",
        "#my_set = {\"apple\", \"banana\", \"cherry\"}\n",
        "\n",
        "# Set of BIN participant ages\n",
        "BIN_ages_set = {20, 25, 30, 33, 29, 24}\n",
        "#print(BIN_ages_set)\n",
        "\n",
        "# Adding an element to the set\n",
        "BIN_ages_set.add(45)\n",
        "print(BIN_ages_set)  # Output: {33, 20, 24, 25, 29, 30, 45}\n",
        "\n",
        "# Removing an element from the set\n",
        "BIN_ages_set.remove(25)\n",
        "print(BIN_ages_set)  # Output: {33, 20, 24, 29, 30, 45}\n",
        "\n",
        "# Checking if an element is in the set\n",
        "print(30 in BIN_ages_set)\n",
        "print(25 in BIN_ages_set)\n",
        "\n",
        "#BIN_ages_set.clear()\n",
        "#print(BIN_ages_set)\n"
      ],
      "metadata": {
        "id": "vRm3CuRpgJLm",
        "outputId": "9b3e796d-1429-4fc7-981c-ce0944e71e4a",
        "colab": {
          "base_uri": "https://localhost:8080/"
        }
      },
      "execution_count": null,
      "outputs": [
        {
          "output_type": "stream",
          "name": "stdout",
          "text": [
            "set()\n",
            "{33, 45, 20, 24, 25, 29, 30}\n",
            "{33, 45, 20, 24, 29, 30}\n",
            "True\n",
            "False\n",
            "set()\n"
          ]
        }
      ]
    },
    {
      "cell_type": "markdown",
      "source": [
        "##Try this"
      ],
      "metadata": {
        "id": "lYfT57DylDsS"
      }
    },
    {
      "cell_type": "markdown",
      "source": [
        "#Logical operators\n",
        "\n",
        "\n",
        "\n",
        "\n"
      ],
      "metadata": {
        "id": "i0aUE_lwli5g"
      }
    },
    {
      "cell_type": "markdown",
      "source": [
        "We use logical operators in Python to check multiple conditions simultaneously.\n",
        "There are 3 logical operators. Namely:\n",
        "\n",
        "\n",
        "*   **and**\n",
        "*   **not**\n",
        "*   **or**\n",
        "\n",
        "The **and** operator compares two conditions and returns **True** if both are **True** and if both either of the conditons is **False** it returns **False**.\n",
        "  *(Tip: and operator is False bias)*.\n",
        "\n",
        "The **or** operator unlike the **and** returns **True** if  either one of the given condition is **True**. It only returns **False** when both conditons are **False**.\n",
        " *(Tip: or operator is True bias)*.\n",
        "\n",
        " The **not** operator is a bit different. It applies to one condition and reverses the result of that condition. That is, **True** becomes **False** and **False** becomes **True**.\n"
      ],
      "metadata": {
        "id": "1EVWAwTntLja"
      }
    },
    {
      "cell_type": "code",
      "source": [
        "#Let's look at a few examples\n",
        "\n",
        "#Example 1 using (and) operator\n",
        "salary = 600\n",
        "rent = 420\n",
        "food = 200\n",
        "print('example 1 (and operator):', salary > rent and rent < 200)\n",
        "#since one of the conditons is False (rent is not less than 200) it returns False"
      ],
      "metadata": {
        "colab": {
          "base_uri": "https://localhost:8080/"
        },
        "id": "z6ag23fk2RFM",
        "outputId": "30790d44-c064-4aa8-ec99-aa8139a6c147"
      },
      "execution_count": null,
      "outputs": [
        {
          "output_type": "stream",
          "name": "stdout",
          "text": [
            "example 1 (and operator): False\n"
          ]
        }
      ]
    },
    {
      "cell_type": "code",
      "source": [
        "#let's see what happens when both condtions are True\n",
        "#Example 2 using (and) operator\n",
        "print('example 2 (and operator) : ', salary > rent and rent > 200)\n",
        "#It returns True because both conditions are indeed True if they were both False it would have returned False"
      ],
      "metadata": {
        "colab": {
          "base_uri": "https://localhost:8080/"
        },
        "id": "mURt1ATemnlg",
        "outputId": "7023afed-3939-4bca-96b2-c40cbb10f044"
      },
      "execution_count": null,
      "outputs": [
        {
          "output_type": "stream",
          "name": "stdout",
          "text": [
            "example 2 (and operator) :  True\n"
          ]
        }
      ]
    },
    {
      "cell_type": "code",
      "source": [
        "#let's take a look at what happens with the (or) operator\n",
        "#example 3 using (or) operator\n",
        "print('example 3 (or operator):', salary > rent or rent < 200)\n",
        "#It returns True because one of the conditons happens to be False (Rent is actually greater than 200)\n"
      ],
      "metadata": {
        "colab": {
          "base_uri": "https://localhost:8080/"
        },
        "id": "IIfV8q7Amu1E",
        "outputId": "d5aed117-4ea6-4116-85db-f47e1c7b196e"
      },
      "execution_count": null,
      "outputs": [
        {
          "output_type": "stream",
          "name": "stdout",
          "text": [
            "example 3 (or operator): True\n"
          ]
        }
      ]
    },
    {
      "cell_type": "code",
      "source": [
        "#What if both are false\n",
        "#example 4 using(or) operator\n",
        "print('example 4 (or operator):', salary < rent or rent < 200)\n",
        "#It returns False because both are False and if they were both True it would have returned True"
      ],
      "metadata": {
        "colab": {
          "base_uri": "https://localhost:8080/"
        },
        "id": "GGUkopWzm5Kx",
        "outputId": "d9a9fcf6-1a69-48ce-c19b-418b3278dc5e"
      },
      "execution_count": null,
      "outputs": [
        {
          "output_type": "stream",
          "name": "stdout",
          "text": [
            "example 4 (or operator): False\n"
          ]
        }
      ]
    },
    {
      "cell_type": "code",
      "source": [
        "#let's take a look at what happens with the (not) operator\n",
        "#example 5 using (not) operator\n",
        "print('example 5 (not operator):',not salary > rent)\n",
        "#It returns False because (Salary > rent) is True and it reverses this result to return False."
      ],
      "metadata": {
        "colab": {
          "base_uri": "https://localhost:8080/"
        },
        "id": "LIKL5gIwm_9g",
        "outputId": "67d1c271-9a8e-440c-931d-21e1500e4362"
      },
      "execution_count": null,
      "outputs": [
        {
          "output_type": "stream",
          "name": "stdout",
          "text": [
            "example 5 (not operator): False\n"
          ]
        }
      ]
    },
    {
      "cell_type": "code",
      "source": [
        "#Lets use result from a previous examaple. Say example 2.\n",
        "#we would expect True for example 2 but the (not) operator returns the opposite\n",
        "print('result using example 2 (not operator) : ', not (salary > rent and rent > 200))"
      ],
      "metadata": {
        "colab": {
          "base_uri": "https://localhost:8080/"
        },
        "id": "GzJuV-AKnIqp",
        "outputId": "1fa146b0-39d4-42f5-feb3-242d5c01bdb3"
      },
      "execution_count": null,
      "outputs": [
        {
          "output_type": "stream",
          "name": "stdout",
          "text": [
            "result using example 2 (not operator) :  False\n"
          ]
        }
      ]
    },
    {
      "cell_type": "markdown",
      "source": [
        "#**Control Structures**"
      ],
      "metadata": {
        "id": "Ei1VUOaQjzqG"
      }
    },
    {
      "cell_type": "markdown",
      "source": [
        "##If, elif and else statements"
      ],
      "metadata": {
        "id": "x3kwSu6yHY2m"
      }
    },
    {
      "cell_type": "markdown",
      "source": [
        " We have looked at logical operators in Python and how useful they are to checking multiply conditions. Another intresting function in Python is if, elif and else statements.\n",
        "\n",
        "Just like human beings, Python is able to execute an action based on a decision.You provide conditions and based on these conditions a specific action is taken. In the case of **if statements** the action is taken when the condition you provide turns out to be **True**.\n",
        "\n",
        "**The flow chart below gives a graphical illustration on how python executes decisions with If statements.**\n",
        "\n",
        "![Python-if-Statement.png](data:image/png;base64,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)\n",
        "\n",
        "(Taken from the web)\n"
      ],
      "metadata": {
        "id": "DG-rJeOrgiTm"
      }
    },
    {
      "cell_type": "code",
      "source": [
        "#simple example of if statement\n",
        "num = 4\n",
        "if num <= 10 :\n",
        "    num_cub = num**3\n",
        "    print(\"num-cubed is:\", num_cub)\n",
        "print(\"You have reached the *outside* of your set condition!\")\n",
        "\n"
      ],
      "metadata": {
        "colab": {
          "base_uri": "https://localhost:8080/"
        },
        "id": "a5Qvawcue-nn",
        "outputId": "edd00c6e-64d3-48e8-98e8-fe0e11df96db"
      },
      "execution_count": null,
      "outputs": [
        {
          "output_type": "stream",
          "name": "stdout",
          "text": [
            "num-cubed is: 64\n",
            "You have reached the *outside* of your set condition!\n"
          ]
        }
      ]
    },
    {
      "cell_type": "code",
      "source": [
        "#Let's take a look at a more interactive example\n",
        "\n",
        "score_point = int(input(\"Please provide score from the Euro match : \"))\n",
        "\n",
        "if score_point > 3:\n",
        "  print(\"you are moving to the next stage\")\n",
        "\n",
        "print(\"*******printing from outside the if-block, looks like you are out of the competition*******\")"
      ],
      "metadata": {
        "colab": {
          "base_uri": "https://localhost:8080/"
        },
        "id": "cJGjmpHWNJkj",
        "outputId": "b7e556a3-e95c-487c-a1d9-39d609eeae80"
      },
      "execution_count": null,
      "outputs": [
        {
          "output_type": "stream",
          "name": "stdout",
          "text": [
            "Please provide score from the Euro match : 3\n",
            "*******printing from outside the if-block, looks like you are out of the competition*******\n"
          ]
        }
      ]
    },
    {
      "cell_type": "markdown",
      "source": [
        "The **else statement** is used in conjuction with the **if statement**. Say you expect an alternative action when your if statement conditon returns **False**, the **else statement** is used in this case.  "
      ],
      "metadata": {
        "id": "oibdTzJwao6q"
      }
    },
    {
      "cell_type": "code",
      "source": [
        "#let's take a look at an example\n",
        "score_point = int(input(\"Please provide score from the Euro match : \"))\n",
        "\n",
        "if score_point > 3:\n",
        "  print(\"you are moving to the next stage\")\n",
        "else:\n",
        "  print(\"Try again in the next tournament\")\n",
        "\n",
        "print(\"********printing from outside the if-block ********.\")"
      ],
      "metadata": {
        "colab": {
          "base_uri": "https://localhost:8080/"
        },
        "id": "xtra8gPAbXnB",
        "outputId": "cf8b5a78-2538-4fea-d3c4-84e8a528493f"
      },
      "execution_count": null,
      "outputs": [
        {
          "output_type": "stream",
          "name": "stdout",
          "text": [
            "Please provide score from the Euro match : 3\n",
            "Try again in the next tournament\n",
            "********printing from outside the if-block ********.\n"
          ]
        }
      ]
    },
    {
      "cell_type": "markdown",
      "source": [
        "We just looked at a simple if and else statement. If you are wondering what to do when you have multiple conditons and instruction, then **elif statements** got you covered."
      ],
      "metadata": {
        "id": "LcUlH-ULsEXj"
      }
    },
    {
      "cell_type": "code",
      "source": [
        "#Let's take a look at an example\n",
        "\n",
        "marks= int(input(\"Provide your exam score : \"))\n",
        "if marks>90:\n",
        "    print(\"A+ - distinction\")\n",
        "elif marks >80:\n",
        "    print(\"A - excellent\")\n",
        "elif marks>70:\n",
        "    print(\"B+ - very good\")\n",
        "elif marks>60:\n",
        "    print(\"B - good\")\n",
        "elif marks>40:\n",
        "    print(\"Pass\")\n",
        "\n",
        "#How would you cater for all marks below 40 without using the elif statement?\n",
        "print(\"printing from outside the if elif-block\")"
      ],
      "metadata": {
        "colab": {
          "base_uri": "https://localhost:8080/"
        },
        "id": "Dr0YQ5p0H2XJ",
        "outputId": "c0f5e085-3dea-4653-fd02-868df1d017da"
      },
      "execution_count": null,
      "outputs": [
        {
          "output_type": "stream",
          "name": "stdout",
          "text": [
            "Provide your exam score : 71\n",
            "B+ - very good\n",
            "printing from outside the if elif-block\n"
          ]
        }
      ]
    },
    {
      "cell_type": "markdown",
      "source": [
        "We've entertained ourselves with **logical operators** and **if, elif and else statements** now let's get a bit complex by combining what we have learnt so far."
      ],
      "metadata": {
        "id": "WXK5M3rm7x5w"
      }
    },
    {
      "cell_type": "markdown",
      "source": [
        "![Bin_age.png](data:image/png;base64,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)\n",
        "\n",
        "\n",
        "\n",
        "\n",
        " **Write a Python program that classifies a given age into different categories based on predefined age ranges by using if statements and logical operators.**\n",
        " Classify the ages into three variable categories: **baby_BIN, adult_BIN,** and **old_BIN**."
      ],
      "metadata": {
        "id": "Ag8Cw6MGVmpL"
      }
    },
    {
      "cell_type": "code",
      "source": [
        "old_BIN = 50\n",
        "adult_BIN = 20\n",
        "baby_BIN = 18\n",
        "cornell_age = int(input(\": Please provide your age \"))\n",
        "\n",
        "#print(cornell_age == baby_BIN)\n",
        "\n",
        "if cornell_age <= baby_BIN:\n",
        "    print(\"awww she is a baby BIN\")\n",
        "elif cornell_age > baby_BIN and cornell_age >= adult_BIN and cornell_age <= old_BIN:\n",
        "  print(\"Oh she is an Adult BIN\")\n",
        "elif cornell_age > old_BIN:\n",
        "    print(\"Cornell is an Old BIN\")\n",
        "else:\n",
        "  print(\"Cornell might be an adult BIN or an Old BIN\")"
      ],
      "metadata": {
        "colab": {
          "base_uri": "https://localhost:8080/"
        },
        "id": "dxYw2hlqVpUh",
        "outputId": "57673cbf-5836-41d4-f0b1-69bcaabd30e4"
      },
      "execution_count": null,
      "outputs": [
        {
          "output_type": "stream",
          "name": "stdout",
          "text": [
            ": Please provide your age 3\n",
            "awww she is a baby BIN\n"
          ]
        }
      ]
    },
    {
      "cell_type": "markdown",
      "source": [
        "##Loops"
      ],
      "metadata": {
        "id": "BUHFEo45ngEA"
      }
    },
    {
      "cell_type": "markdown",
      "source": [
        "From the above section you now know how to execute a block of code as long as the conditions you provide are met. As a student or a worker you probably have certain tasks you keep doing every single day right?. More like you are stuck in a loop. In Python, **loops** are used for executing a block of code repeatedly as long as a condition is met.\n",
        "\n",
        "They are essential for tasks that require iteration, such as processing items in a list, performing repetitive tasks, or iterating over data structures. There are two primary types of loops in Python :\n",
        "\n",
        "\n",
        "*   For Loops\n",
        "*   While Loops"
      ],
      "metadata": {
        "id": "V6fMpD-71RQC"
      }
    },
    {
      "cell_type": "markdown",
      "source": [
        "## For loops\n",
        "A **for loop** is used to iterate over a sequence (e.g., a list, tuple, dictionary, set, or string) and execute a block of code for each item in the sequence."
      ],
      "metadata": {
        "id": "fhMnp5pBHFn6"
      }
    },
    {
      "cell_type": "code",
      "source": [
        "# Example of iterating over a list\n",
        "shopping_list = [\"apple\", \"pen\", \"cake\", \"ginger\", \"butter\"]\n",
        "\n",
        "for item in shopping_list:\n",
        "    print(item)"
      ],
      "metadata": {
        "id": "tHpNOZJmAPeu",
        "colab": {
          "base_uri": "https://localhost:8080/"
        },
        "outputId": "85d69e43-84c7-4ba8-df4b-7a1f2abc338e"
      },
      "execution_count": null,
      "outputs": [
        {
          "output_type": "stream",
          "name": "stdout",
          "text": [
            "apple\n",
            "pen\n",
            "cake\n",
            "ginger\n",
            "butter\n"
          ]
        }
      ]
    },
    {
      "cell_type": "code",
      "source": [
        "# Iterating over characters in a string\n",
        "word = \"Neuro\"\n",
        "for char in word:\n",
        "    print(char)"
      ],
      "metadata": {
        "colab": {
          "base_uri": "https://localhost:8080/"
        },
        "id": "r39UMKtjSHa3",
        "outputId": "04d0e731-eec2-41f6-e521-09c8932757ff"
      },
      "execution_count": null,
      "outputs": [
        {
          "output_type": "stream",
          "name": "stdout",
          "text": [
            "N\n",
            "e\n",
            "u\n",
            "r\n",
            "o\n"
          ]
        }
      ]
    },
    {
      "cell_type": "markdown",
      "source": [
        "###For Loop with Range\n",
        "The range( ) function generates a sequence of numbers, which is useful for looping a specific number of times."
      ],
      "metadata": {
        "id": "cS407FwRLlAA"
      }
    },
    {
      "cell_type": "code",
      "source": [
        "# Example using range() to print numbers 0 to 4\n",
        "for i in range(5):\n",
        "    print(i)"
      ],
      "metadata": {
        "colab": {
          "base_uri": "https://localhost:8080/"
        },
        "id": "afc0KZDzL9tR",
        "outputId": "702d603c-8bf9-48f9-9676-8ff3c0b7e80f"
      },
      "execution_count": null,
      "outputs": [
        {
          "output_type": "stream",
          "name": "stdout",
          "text": [
            "0\n",
            "1\n",
            "2\n",
            "3\n",
            "4\n"
          ]
        }
      ]
    },
    {
      "cell_type": "markdown",
      "source": [
        "###For Loop with Index\n",
        "You can use enumerate( ) to get both the index and the item."
      ],
      "metadata": {
        "id": "SpuExXARMnSj"
      }
    },
    {
      "cell_type": "code",
      "source": [
        "# Example getting index and item from a list\n",
        "for index, item in enumerate(shopping_list):\n",
        "    print(f\"Index: {index}, Item: {item}\")\n",
        "\n",
        "#The f' before the string tells Python to evaluate the expressions inside the curly braces {} and include their values in the string."
      ],
      "metadata": {
        "colab": {
          "base_uri": "https://localhost:8080/"
        },
        "id": "K4isx_fWMrkK",
        "outputId": "39bc1cc4-cd44-4bc8-cad4-5239e0743eb5"
      },
      "execution_count": null,
      "outputs": [
        {
          "output_type": "stream",
          "name": "stdout",
          "text": [
            "Index: 0, Item: apple\n",
            "Index: 1, Item: pen\n",
            "Index: 2, Item: cake\n",
            "Index: 3, Item: ginger\n",
            "Index: 4, Item: tissue\n"
          ]
        }
      ]
    },
    {
      "cell_type": "markdown",
      "source": [
        "##While loops\n",
        "\n",
        "A while loop repeats as long as a specified condition is true."
      ],
      "metadata": {
        "id": "-PR1bW8rSt43"
      }
    },
    {
      "cell_type": "code",
      "source": [
        "# Initialize a counter\n",
        "counter = 0\n",
        "\n",
        "# Using a while loop to repeat until counter reaches 5\n",
        "while counter < 5:\n",
        "    print(f\"Counter is at: {counter}\")\n",
        "    counter += 1  # Increment the counter"
      ],
      "metadata": {
        "colab": {
          "base_uri": "https://localhost:8080/"
        },
        "id": "q6ihrW3aW3GM",
        "outputId": "5281ccaa-667a-4a73-bc24-dc149de88e28"
      },
      "execution_count": null,
      "outputs": [
        {
          "output_type": "stream",
          "name": "stdout",
          "text": [
            "Counter is at: 0\n",
            "Counter is at: 1\n",
            "Counter is at: 2\n",
            "Counter is at: 3\n",
            "Counter is at: 4\n"
          ]
        }
      ]
    },
    {
      "cell_type": "markdown",
      "source": [
        "You can use break to exit a loop prematurely."
      ],
      "metadata": {
        "id": "HoKB_E6WeR5m"
      }
    },
    {
      "cell_type": "code",
      "source": [
        "# Using a while loop to find a specific item\n",
        "index = 0\n",
        "while index < len(shopping_list):\n",
        "    if shopping_list[index] == \"cake\":\n",
        "        print(\"Found cake!\")\n",
        "        break  # Exit the loop when \"cake\" is found\n",
        "    index += 1"
      ],
      "metadata": {
        "id": "MLr-Gz7B_QgS",
        "colab": {
          "base_uri": "https://localhost:8080/"
        },
        "outputId": "d18b7567-7852-4913-9349-23c752974527"
      },
      "execution_count": null,
      "outputs": [
        {
          "output_type": "stream",
          "name": "stdout",
          "text": [
            "Found cake!\n"
          ]
        }
      ]
    },
    {
      "cell_type": "markdown",
      "source": [
        "#**Functions**"
      ],
      "metadata": {
        "id": "HWUPB8JYlTuM"
      }
    },
    {
      "cell_type": "markdown",
      "source": [
        "One great thing about Functions is that it makes the resuablitity of code a lot easy and cooler 😃."
      ],
      "metadata": {
        "id": "YLeidUlc-UZv"
      }
    },
    {
      "cell_type": "markdown",
      "source": [
        "To use Functions, you need to first define the function before you call it. We have an example here. We want a function that can repeat the statement : ' Spain won the Euro tournament!!!! wooohoooo'. What we are going to do is define this **Function** as *repeat* ."
      ],
      "metadata": {
        "id": "2VyyK5Vc_YRx"
      }
    },
    {
      "cell_type": "code",
      "source": [
        "# A fuction that repeats a statement 3 times\n",
        "def repeat():\n",
        "  word=' Spain won the Euro tournament!!!! wooohoooo'\n",
        "  print(word)\n",
        "  print(word)\n",
        "  print(word)"
      ],
      "metadata": {
        "id": "poBSgS5F-qYM"
      },
      "execution_count": null,
      "outputs": []
    },
    {
      "cell_type": "markdown",
      "source": [
        "We have our fuction defined as *repeat()* now let us call our fuction and see if it works."
      ],
      "metadata": {
        "id": "pIMgO-i8Ad87"
      }
    },
    {
      "cell_type": "code",
      "source": [
        "#calling the repeat () func\n",
        "repeat()\n"
      ],
      "metadata": {
        "colab": {
          "base_uri": "https://localhost:8080/"
        },
        "id": "cHd1X0SPAdYs",
        "outputId": "fb84cc50-bad4-4f5c-ae50-b087bc100354"
      },
      "execution_count": null,
      "outputs": [
        {
          "output_type": "stream",
          "name": "stdout",
          "text": [
            " Spain won the Euro tournament!!!! wooohoooo\n",
            " Spain won the Euro tournament!!!! wooohoooo\n",
            " Spain won the Euro tournament!!!! wooohoooo\n"
          ]
        }
      ]
    },
    {
      "cell_type": "markdown",
      "source": [
        "##Exercise for Fuctions\n",
        " create a fuction called *grade( )* that takes a string parameter called *sch_grade* and returns the text\n",
        "\n",
        "  \n",
        "  \"You got < sch_grade > for first semester, prepare for the second semester\""
      ],
      "metadata": {
        "id": "kMEIjinYA2tB"
      }
    },
    {
      "cell_type": "code",
      "source": [
        "def grade():\n",
        "  sch_grade=int(input(\"provide your score \"))\n",
        "  print(\" You got, \" + str(sch_grade) + \" for first semester, prepare for the second semester.\")\n",
        "\n",
        "grade()\n"
      ],
      "metadata": {
        "id": "qjlLHjrtrx1Q",
        "colab": {
          "base_uri": "https://localhost:8080/"
        },
        "outputId": "7954e33e-39c7-4ae4-ee03-2487854d86f6"
      },
      "execution_count": null,
      "outputs": [
        {
          "output_type": "stream",
          "name": "stdout",
          "text": [
            "provide your score 60\n",
            " You got, 60 for first semester, prepare for the second semester.\n"
          ]
        }
      ]
    },
    {
      "cell_type": "markdown",
      "source": [
        "##If statements in functions\n",
        "\n",
        "We have acquired some basics pieces of useful tools in Python, let's merge them and what we've learnt so far."
      ],
      "metadata": {
        "id": "WJ76E5pGVwpx"
      }
    },
    {
      "cell_type": "code",
      "source": [
        "def BIN_awardee(age, grade):\n",
        "  #check if they qualify with age\n",
        "  if age< 18:\n",
        "    print(\"sorry you don't qualify\")\n",
        "    return  #The program exits the function early since the participant does not qualify\n",
        "  else:\n",
        "    print(\"hooray !! You qualify\")\n",
        "\n",
        "  #check grade to check students who passed\n",
        "  if grade < 50:\n",
        "    print(\"you got a low score\")\n",
        "  elif grade >= 50 and grade <= 80:\n",
        "    print(\"you've passed! but no award\")\n",
        "  elif grade >80:\n",
        "    print(\"you did so well! Congratulation you recieve an award\")\n",
        "\n",
        "BIN_awardee(13,50)"
      ],
      "metadata": {
        "colab": {
          "base_uri": "https://localhost:8080/"
        },
        "id": "0-g1aSqLhg0O",
        "outputId": "464599cf-920d-47ec-b6bd-d8eab3fcd6ab"
      },
      "execution_count": null,
      "outputs": [
        {
          "output_type": "stream",
          "name": "stdout",
          "text": [
            "sorry you don't qualify\n"
          ]
        }
      ]
    },
    {
      "cell_type": "markdown",
      "source": [],
      "metadata": {
        "id": "zRRVgMqVoDtn"
      }
    },
    {
      "cell_type": "markdown",
      "source": [
        "#**Classes**"
      ],
      "metadata": {
        "id": "8DrsTzMUd6dI"
      }
    },
    {
      "cell_type": "markdown",
      "source": [
        "Classes are a way to create your own custom data types in Python. They allow you to bundle data (attributes) and functions (methods) together. We would go through the basics of creating and using classes."
      ],
      "metadata": {
        "id": "l5pxeyYfv319"
      }
    },
    {
      "cell_type": "code",
      "source": [
        "#In Python, a class is defined using the 'class ' keyword.\n",
        "#Let's take a look at an example\n",
        "#This is a class called Students\n"
      ],
      "metadata": {
        "id": "LXnuckwp1RM7"
      },
      "execution_count": null,
      "outputs": []
    },
    {
      "cell_type": "code",
      "source": [
        "#Continuation of class example\n",
        "class Students:\n",
        "  def __init__(self, first, last, interest):\n",
        "      self.first = first\n",
        "      self.last = last\n",
        "      self.interest = interest\n",
        "      self.email = first+last+ '@gmail.com'\n",
        "\n",
        "\n",
        "stu_1= Students('Nat', 'abh', 'Cognitive science')\n",
        "stu_2= Students('Bat', 'MAN', 'mathematical science')\n",
        "\n",
        "#print(stu_1)\n",
        "#print(stu_2)\n",
        "\n",
        "#stu_1.first ='Elizabeth Cornell'\n",
        "#stu_1.last = 'Awuku'\n",
        "#stu_1.email ='awukucornell@gmail.com'\n",
        "#stu_1.interest = 'Cognitive Science'\n",
        "\n",
        "#stu_2.first ='Elizabeth Cornell'\n",
        "#stu_2.last = 'Awuku'\n",
        "#stu_2.email ='awukucornell@gmail.com'\n",
        "#stu_2.interest = 'Cognitive Science'\n",
        "\n",
        "print(stu_2.first)"
      ],
      "metadata": {
        "colab": {
          "base_uri": "https://localhost:8080/"
        },
        "id": "d-4SysF39O68",
        "outputId": "3a01be60-9144-4e08-957d-72cb4a4d7021"
      },
      "execution_count": null,
      "outputs": [
        {
          "output_type": "stream",
          "name": "stdout",
          "text": [
            "Bat\n"
          ]
        }
      ]
    },
    {
      "cell_type": "markdown",
      "source": [
        "The __ init __ method is a special method that initializes a newly created object. It is called automatically when a new instance of the class is created."
      ],
      "metadata": {
        "id": "qEoNagFxELFa"
      }
    },
    {
      "cell_type": "code",
      "source": [
        "#print out the full name of students using the class function\n",
        "\n",
        "#Prints the fullname of a student\n",
        "# print(f\"{stu_1.first} {stu_1.last}\")\n",
        "# print(f\"{stu_2.first} {stu_2.last}\")\n",
        "\n",
        "class Students:\n",
        "  def __init__(self, first, last, interest):\n",
        "      self.first = first\n",
        "      self.last = last\n",
        "      self.interest = interest\n",
        "      self.email = first+last+ '@gmail.com'\n",
        "\n",
        "  def fullname(self):\n",
        "    return f\"{self.first} {self.last}\"\n",
        "\n",
        "stu_1= Students('Nat', 'abh', 'Cognitive science')\n",
        "stu_2= Students('Bat', 'MAN', 'mathematical science')\n",
        "\n",
        "print(stu_1.fullname())"
      ],
      "metadata": {
        "colab": {
          "base_uri": "https://localhost:8080/"
        },
        "id": "0nMiFTPG3YZK",
        "outputId": "2a3983db-25a0-4e21-d1d3-be3ae461e7c9"
      },
      "execution_count": null,
      "outputs": [
        {
          "output_type": "stream",
          "name": "stdout",
          "text": [
            "Nat abh\n"
          ]
        }
      ]
    },
    {
      "cell_type": "markdown",
      "source": [
        "###Try this\n",
        "Create your own simple class for managing a library book with the following attributes:\n",
        "\n",
        "- Title (string)\n",
        "- Author (string)\n",
        "- Pages (integer)\n",
        "\n",
        "Add a method description that returns a string describing the book.\n",
        "\n",
        "Create instances of the Book class and use the description method to print the details of the books."
      ],
      "metadata": {
        "id": "8u1PZYHCQqf8"
      }
    },
    {
      "cell_type": "markdown",
      "source": [
        "#**Pandas**\n",
        "\n",
        "Pandas is a powerful Python library for data manipulation and analysis.  We would go through the basics of using Pandas to manipulate data and using Matplotlib to visualize it."
      ],
      "metadata": {
        "id": "257Xb_plewMx"
      }
    },
    {
      "cell_type": "code",
      "source": [
        "#Import the necessary Libaries\n",
        "import pandas as pd\n",
        "import numpy as np\n",
        "import matplotlib.pyplot as plt"
      ],
      "metadata": {
        "id": "eJem8__a9A2-"
      },
      "execution_count": null,
      "outputs": []
    },
    {
      "cell_type": "code",
      "source": [
        "df=pd.read_csv(\"data.csv\")\n",
        "# #print(df.head())\n",
        "# df.describe()\n",
        "df.dropna()\n",
        "#print(df[\"Date\"].value_counts)\n",
        "# df.count()\n",
        "print(df)\n",
        "df.plot()\n",
        "plt.show()"
      ],
      "metadata": {
        "colab": {
          "base_uri": "https://localhost:8080/",
          "height": 388
        },
        "id": "yIzOVam_Cu8i",
        "outputId": "f3f8a72d-2f73-48a9-82c2-5862d76f4796"
      },
      "execution_count": null,
      "outputs": [
        {
          "output_type": "error",
          "ename": "FileNotFoundError",
          "evalue": "[Errno 2] No such file or directory: 'data.csv'",
          "traceback": [
            "\u001b[0;31m---------------------------------------------------------------------------\u001b[0m",
            "\u001b[0;31mFileNotFoundError\u001b[0m                         Traceback (most recent call last)",
            "\u001b[0;32m<ipython-input-3-f2b2776f1c94>\u001b[0m in \u001b[0;36m<cell line: 1>\u001b[0;34m()\u001b[0m\n\u001b[0;32m----> 1\u001b[0;31m \u001b[0mdf\u001b[0m\u001b[0;34m=\u001b[0m\u001b[0mpd\u001b[0m\u001b[0;34m.\u001b[0m\u001b[0mread_csv\u001b[0m\u001b[0;34m(\u001b[0m\u001b[0;34m\"data.csv\"\u001b[0m\u001b[0;34m)\u001b[0m\u001b[0;34m\u001b[0m\u001b[0;34m\u001b[0m\u001b[0m\n\u001b[0m\u001b[1;32m      2\u001b[0m \u001b[0;31m# #print(df.head())\u001b[0m\u001b[0;34m\u001b[0m\u001b[0;34m\u001b[0m\u001b[0m\n\u001b[1;32m      3\u001b[0m \u001b[0;31m# df.describe()\u001b[0m\u001b[0;34m\u001b[0m\u001b[0;34m\u001b[0m\u001b[0m\n\u001b[1;32m      4\u001b[0m \u001b[0mdf\u001b[0m\u001b[0;34m.\u001b[0m\u001b[0mdropna\u001b[0m\u001b[0;34m(\u001b[0m\u001b[0;34m)\u001b[0m\u001b[0;34m\u001b[0m\u001b[0;34m\u001b[0m\u001b[0m\n\u001b[1;32m      5\u001b[0m \u001b[0;31m#print(df[\"Date\"].value_counts)\u001b[0m\u001b[0;34m\u001b[0m\u001b[0;34m\u001b[0m\u001b[0m\n",
            "\u001b[0;32m/usr/local/lib/python3.10/dist-packages/pandas/io/parsers/readers.py\u001b[0m in \u001b[0;36mread_csv\u001b[0;34m(filepath_or_buffer, sep, delimiter, header, names, index_col, usecols, dtype, engine, converters, true_values, false_values, skipinitialspace, skiprows, skipfooter, nrows, na_values, keep_default_na, na_filter, verbose, skip_blank_lines, parse_dates, infer_datetime_format, keep_date_col, date_parser, date_format, dayfirst, cache_dates, iterator, chunksize, compression, thousands, decimal, lineterminator, quotechar, quoting, doublequote, escapechar, comment, encoding, encoding_errors, dialect, on_bad_lines, delim_whitespace, low_memory, memory_map, float_precision, storage_options, dtype_backend)\u001b[0m\n\u001b[1;32m    946\u001b[0m     \u001b[0mkwds\u001b[0m\u001b[0;34m.\u001b[0m\u001b[0mupdate\u001b[0m\u001b[0;34m(\u001b[0m\u001b[0mkwds_defaults\u001b[0m\u001b[0;34m)\u001b[0m\u001b[0;34m\u001b[0m\u001b[0;34m\u001b[0m\u001b[0m\n\u001b[1;32m    947\u001b[0m \u001b[0;34m\u001b[0m\u001b[0m\n\u001b[0;32m--> 948\u001b[0;31m     \u001b[0;32mreturn\u001b[0m \u001b[0m_read\u001b[0m\u001b[0;34m(\u001b[0m\u001b[0mfilepath_or_buffer\u001b[0m\u001b[0;34m,\u001b[0m \u001b[0mkwds\u001b[0m\u001b[0;34m)\u001b[0m\u001b[0;34m\u001b[0m\u001b[0;34m\u001b[0m\u001b[0m\n\u001b[0m\u001b[1;32m    949\u001b[0m \u001b[0;34m\u001b[0m\u001b[0m\n\u001b[1;32m    950\u001b[0m \u001b[0;34m\u001b[0m\u001b[0m\n",
            "\u001b[0;32m/usr/local/lib/python3.10/dist-packages/pandas/io/parsers/readers.py\u001b[0m in \u001b[0;36m_read\u001b[0;34m(filepath_or_buffer, kwds)\u001b[0m\n\u001b[1;32m    609\u001b[0m \u001b[0;34m\u001b[0m\u001b[0m\n\u001b[1;32m    610\u001b[0m     \u001b[0;31m# Create the parser.\u001b[0m\u001b[0;34m\u001b[0m\u001b[0;34m\u001b[0m\u001b[0m\n\u001b[0;32m--> 611\u001b[0;31m     \u001b[0mparser\u001b[0m \u001b[0;34m=\u001b[0m \u001b[0mTextFileReader\u001b[0m\u001b[0;34m(\u001b[0m\u001b[0mfilepath_or_buffer\u001b[0m\u001b[0;34m,\u001b[0m \u001b[0;34m**\u001b[0m\u001b[0mkwds\u001b[0m\u001b[0;34m)\u001b[0m\u001b[0;34m\u001b[0m\u001b[0;34m\u001b[0m\u001b[0m\n\u001b[0m\u001b[1;32m    612\u001b[0m \u001b[0;34m\u001b[0m\u001b[0m\n\u001b[1;32m    613\u001b[0m     \u001b[0;32mif\u001b[0m \u001b[0mchunksize\u001b[0m \u001b[0;32mor\u001b[0m \u001b[0miterator\u001b[0m\u001b[0;34m:\u001b[0m\u001b[0;34m\u001b[0m\u001b[0;34m\u001b[0m\u001b[0m\n",
            "\u001b[0;32m/usr/local/lib/python3.10/dist-packages/pandas/io/parsers/readers.py\u001b[0m in \u001b[0;36m__init__\u001b[0;34m(self, f, engine, **kwds)\u001b[0m\n\u001b[1;32m   1446\u001b[0m \u001b[0;34m\u001b[0m\u001b[0m\n\u001b[1;32m   1447\u001b[0m         \u001b[0mself\u001b[0m\u001b[0;34m.\u001b[0m\u001b[0mhandles\u001b[0m\u001b[0;34m:\u001b[0m \u001b[0mIOHandles\u001b[0m \u001b[0;34m|\u001b[0m \u001b[0;32mNone\u001b[0m \u001b[0;34m=\u001b[0m \u001b[0;32mNone\u001b[0m\u001b[0;34m\u001b[0m\u001b[0;34m\u001b[0m\u001b[0m\n\u001b[0;32m-> 1448\u001b[0;31m         \u001b[0mself\u001b[0m\u001b[0;34m.\u001b[0m\u001b[0m_engine\u001b[0m \u001b[0;34m=\u001b[0m \u001b[0mself\u001b[0m\u001b[0;34m.\u001b[0m\u001b[0m_make_engine\u001b[0m\u001b[0;34m(\u001b[0m\u001b[0mf\u001b[0m\u001b[0;34m,\u001b[0m \u001b[0mself\u001b[0m\u001b[0;34m.\u001b[0m\u001b[0mengine\u001b[0m\u001b[0;34m)\u001b[0m\u001b[0;34m\u001b[0m\u001b[0;34m\u001b[0m\u001b[0m\n\u001b[0m\u001b[1;32m   1449\u001b[0m \u001b[0;34m\u001b[0m\u001b[0m\n\u001b[1;32m   1450\u001b[0m     \u001b[0;32mdef\u001b[0m \u001b[0mclose\u001b[0m\u001b[0;34m(\u001b[0m\u001b[0mself\u001b[0m\u001b[0;34m)\u001b[0m \u001b[0;34m->\u001b[0m \u001b[0;32mNone\u001b[0m\u001b[0;34m:\u001b[0m\u001b[0;34m\u001b[0m\u001b[0;34m\u001b[0m\u001b[0m\n",
            "\u001b[0;32m/usr/local/lib/python3.10/dist-packages/pandas/io/parsers/readers.py\u001b[0m in \u001b[0;36m_make_engine\u001b[0;34m(self, f, engine)\u001b[0m\n\u001b[1;32m   1703\u001b[0m                 \u001b[0;32mif\u001b[0m \u001b[0;34m\"b\"\u001b[0m \u001b[0;32mnot\u001b[0m \u001b[0;32min\u001b[0m \u001b[0mmode\u001b[0m\u001b[0;34m:\u001b[0m\u001b[0;34m\u001b[0m\u001b[0;34m\u001b[0m\u001b[0m\n\u001b[1;32m   1704\u001b[0m                     \u001b[0mmode\u001b[0m \u001b[0;34m+=\u001b[0m \u001b[0;34m\"b\"\u001b[0m\u001b[0;34m\u001b[0m\u001b[0;34m\u001b[0m\u001b[0m\n\u001b[0;32m-> 1705\u001b[0;31m             self.handles = get_handle(\n\u001b[0m\u001b[1;32m   1706\u001b[0m                 \u001b[0mf\u001b[0m\u001b[0;34m,\u001b[0m\u001b[0;34m\u001b[0m\u001b[0;34m\u001b[0m\u001b[0m\n\u001b[1;32m   1707\u001b[0m                 \u001b[0mmode\u001b[0m\u001b[0;34m,\u001b[0m\u001b[0;34m\u001b[0m\u001b[0;34m\u001b[0m\u001b[0m\n",
            "\u001b[0;32m/usr/local/lib/python3.10/dist-packages/pandas/io/common.py\u001b[0m in \u001b[0;36mget_handle\u001b[0;34m(path_or_buf, mode, encoding, compression, memory_map, is_text, errors, storage_options)\u001b[0m\n\u001b[1;32m    861\u001b[0m         \u001b[0;32mif\u001b[0m \u001b[0mioargs\u001b[0m\u001b[0;34m.\u001b[0m\u001b[0mencoding\u001b[0m \u001b[0;32mand\u001b[0m \u001b[0;34m\"b\"\u001b[0m \u001b[0;32mnot\u001b[0m \u001b[0;32min\u001b[0m \u001b[0mioargs\u001b[0m\u001b[0;34m.\u001b[0m\u001b[0mmode\u001b[0m\u001b[0;34m:\u001b[0m\u001b[0;34m\u001b[0m\u001b[0;34m\u001b[0m\u001b[0m\n\u001b[1;32m    862\u001b[0m             \u001b[0;31m# Encoding\u001b[0m\u001b[0;34m\u001b[0m\u001b[0;34m\u001b[0m\u001b[0m\n\u001b[0;32m--> 863\u001b[0;31m             handle = open(\n\u001b[0m\u001b[1;32m    864\u001b[0m                 \u001b[0mhandle\u001b[0m\u001b[0;34m,\u001b[0m\u001b[0;34m\u001b[0m\u001b[0;34m\u001b[0m\u001b[0m\n\u001b[1;32m    865\u001b[0m                 \u001b[0mioargs\u001b[0m\u001b[0;34m.\u001b[0m\u001b[0mmode\u001b[0m\u001b[0;34m,\u001b[0m\u001b[0;34m\u001b[0m\u001b[0;34m\u001b[0m\u001b[0m\n",
            "\u001b[0;31mFileNotFoundError\u001b[0m: [Errno 2] No such file or directory: 'data.csv'"
          ]
        }
      ]
    },
    {
      "cell_type": "code",
      "source": [
        "\n",
        "\n",
        "# Loading data from a CSV file\n",
        "#df = pd.read_csv('example.csv')\n",
        "\n",
        "# Creating the data dictionary\n",
        "data = {\n",
        "   \"Name\": [\"Nathan\", \"Cornell\", \"Mahmoud\", \"Angie\", \"Rose\", \"Jay\", \"Melisa\", \"Dorine\", \"Peter\", \"Einstein\", \"Julius\", \"Grace\",\n",
        "           \"Henry\", \"Prince\", \"Jen\", \"Ben\", \"Florsy\", \"Beatrice\", \"Dan\", \"Pearl\", \"Andy\", \"Cindy\", \"Prince\", \" Janet\", \"Morgan\", \"Richard\", \"Paige\", \"Alma\", \"Dexter\",\n",
        "            \"Chan\", \"Lee\"],\n",
        "   \"Age\": [30, 25, 20, 32, 25, 18, 20, 10, 30, 31, 32, 20, 21, 23, 19, 26, 39, 19, 22, 22, 15, 20, 20, 31, 19, 28, 29, 30, 23, 26, 19],\n",
        "   \"Country\": [\"Ghana\", \"Germany\", \"USA\", \"Germany\", \"UK\", \"Germany\", \"Sudan\", \"Congo\", \"USA\", \"Ghana\",  \"Germany\", \"USA\", \"Germany\", \"Sudan\", \"Congo\", \"USA\", \"Ghana\"\n",
        "   , \"Germany\", \"USA\", \"Germany\", \"Nigeria\", \"Denmark\", \"Canada\",\"Germany\", \"USA\", \"Germany\", \"Nigeria\",\"Nigeria\", \"Denmark\", \"Canada\", \"Sudan\" ]\n",
        "}\n",
        "\n",
        "# Creating the DataFrame\n",
        "BIN_df = pd.DataFrame(data)\n",
        "\n",
        "# Displaying the DataFrame\n",
        "# print(BIN_df.count)\n",
        "\n",
        "column_BIN_df = BIN_df[\"Name\"]\n",
        "print(len(column_BIN_df))\n"
      ],
      "metadata": {
        "colab": {
          "base_uri": "https://localhost:8080/"
        },
        "id": "7RE3yWnSBKo9",
        "outputId": "c314140c-e8d7-4677-ecef-2e4fc88c9ae6"
      },
      "execution_count": null,
      "outputs": [
        {
          "output_type": "stream",
          "name": "stdout",
          "text": [
            "31\n"
          ]
        }
      ]
    },
    {
      "cell_type": "code",
      "source": [
        "df[\"Names\"] = column_BIN_df\n",
        "print(df)"
      ],
      "metadata": {
        "colab": {
          "base_uri": "https://localhost:8080/"
        },
        "id": "ta27i9pyO27M",
        "outputId": "777b6570-1693-42f1-a732-9c315fbaed72"
      },
      "execution_count": null,
      "outputs": [
        {
          "output_type": "stream",
          "name": "stdout",
          "text": [
            "    Duration          Date  Pulse  Maxpulse  Calories     Names\n",
            "0         60  '2020/12/01'    110       130     409.1    Nathan\n",
            "1         60  '2020/12/02'    117       145     479.0   Cornell\n",
            "2         60  '2020/12/03'    103       135     340.0   Mahmoud\n",
            "3         45  '2020/12/04'    109       175     282.4     Angie\n",
            "4         45  '2020/12/05'    117       148     406.0      Rose\n",
            "5         60  '2020/12/06'    102       127     300.0       Jay\n",
            "6         60  '2020/12/07'    110       136     374.0    Melisa\n",
            "7        450  '2020/12/08'    104       134     253.3    Dorine\n",
            "8         30  '2020/12/09'    109       133     195.1     Peter\n",
            "9         60  '2020/12/10'     98       124     269.0  Einstein\n",
            "10        60  '2020/12/11'    103       147     329.3    Julius\n",
            "11        60  '2020/12/12'    100       120     250.7     Grace\n",
            "12        60  '2020/12/12'    100       120     250.7     Henry\n",
            "13        60  '2020/12/13'    106       128     345.3    Prince\n",
            "14        60  '2020/12/14'    104       132     379.3       Jen\n",
            "15        60  '2020/12/15'     98       123     275.0       Ben\n",
            "16        60  '2020/12/16'     98       120     215.2    Florsy\n",
            "17        60  '2020/12/17'    100       120     300.0  Beatrice\n",
            "18        45  '2020/12/18'     90       112       NaN       Dan\n",
            "19        60  '2020/12/19'    103       123     323.0     Pearl\n",
            "20        45  '2020/12/20'     97       125     243.0      Andy\n",
            "21        60  '2020/12/21'    108       131     364.2     Cindy\n",
            "22        45           NaN    100       119     282.0    Prince\n",
            "23        60  '2020/12/23'    130       101     300.0     Janet\n",
            "24        45  '2020/12/24'    105       132     246.0    Morgan\n",
            "25        60  '2020/12/25'    102       126     334.5   Richard\n",
            "26        60      20201226    100       120     250.0     Paige\n",
            "27        60  '2020/12/27'     92       118     241.0      Alma\n",
            "28        60  '2020/12/28'    103       132       NaN    Dexter\n",
            "29        60  '2020/12/29'    100       132     280.0      Chan\n",
            "30        60  '2020/12/30'    102       129     380.3       Lee\n",
            "31        60  '2020/12/31'     92       115     243.0       NaN\n"
          ]
        }
      ]
    },
    {
      "cell_type": "code",
      "source": [
        "# Displaying the first few rows\n",
        "print(df.head())\n",
        "\n",
        "# Displaying the last few rows\n",
        "print(df.tail())\n",
        "\n",
        "# Displaying summary statistics\n",
        "print(df.describe())\n",
        "\n",
        "# Checking for missing values\n",
        "print(df.isnull().sum())\n",
        "\n",
        "df[\"Country\"].value_counts()"
      ],
      "metadata": {
        "colab": {
          "base_uri": "https://localhost:8080/"
        },
        "id": "r7l3OLIVEhyK",
        "outputId": "a48158a2-a72f-4323-c6d3-e07bfbed0f8c"
      },
      "execution_count": null,
      "outputs": [
        {
          "output_type": "stream",
          "name": "stdout",
          "text": [
            "      Name  Age  Country\n",
            "0   Nathan   30    Ghana\n",
            "1  Cornell   25  Germany\n",
            "2  Mahmoud   20      USA\n",
            "3    Angie   32  Germany\n",
            "4     Rose   25       UK\n",
            "        Name  Age  Country\n",
            "15       Ben   26      USA\n",
            "16    Florsy   39    Ghana\n",
            "17  Beatrice   19  Germany\n",
            "18       Dan   22      USA\n",
            "19     Pearl   22  Germany\n",
            "             Age\n",
            "count  20.000000\n",
            "mean   24.200000\n",
            "std     6.598245\n",
            "min    10.000000\n",
            "25%    20.000000\n",
            "50%    22.500000\n",
            "75%    30.000000\n",
            "max    39.000000\n",
            "Name       0\n",
            "Age        0\n",
            "Country    0\n",
            "dtype: int64\n"
          ]
        },
        {
          "output_type": "execute_result",
          "data": {
            "text/plain": [
              "Country\n",
              "Germany    7\n",
              "USA        5\n",
              "Ghana      3\n",
              "Sudan      2\n",
              "Congo      2\n",
              "UK         1\n",
              "Name: count, dtype: int64"
            ]
          },
          "metadata": {},
          "execution_count": 7
        }
      ]
    },
    {
      "cell_type": "markdown",
      "source": [
        "#Data visualization"
      ],
      "metadata": {
        "id": "RwnwaQnC6YjM"
      }
    },
    {
      "cell_type": "markdown",
      "source": [
        "Let's assume we have a list of student ages and their corresponding countries. We'll create a Pandas DataFrame to organize this data but first we need to import some **Libraries**.\n",
        "\n",
        "In Python, a library is a collection of pre-written code that you can use to perform common tasks, such as mathematical calculations, data manipulation, web development, and more. Libraries save you time and effort because you don't have to write code from scratch for common functionality."
      ],
      "metadata": {
        "id": "Ny8Rhh7x6cU3"
      }
    },
    {
      "cell_type": "code",
      "source": [
        "import matplotlib.pyplot as plt # Matplotlib is used for creating static, interactive, and animated visualizations.\n",
        "import seaborn as sns #Seaborn is statistical data visualization library based on Matplotlib.\n",
        "import pandas as pd #Pandas provides data structures and data analysis tools.\n"
      ],
      "metadata": {
        "id": "EtPWOdax5VHM"
      },
      "execution_count": null,
      "outputs": []
    },
    {
      "cell_type": "code",
      "source": [
        "#List of some BIN student names , age and country\n",
        "data = {\n",
        "    \"Name\": [\"Nathan\", \"Cornell\", \"Mahmoud\", \"Angie\", \"Rose\", \"Jay\"],\n",
        "    \"Age\": [30, 25, 20, 32, 25, 18 ],\n",
        "    \"Country\": [\"Ghana\", \"Germany\", \"USA\", \"Germany\", \"UK\", \"Germany\",]\n",
        "}\n",
        "\n",
        "# Create a DataFrame\n",
        "df = pd.DataFrame(data)\n",
        "\n",
        "print(df)\n"
      ],
      "metadata": {
        "colab": {
          "base_uri": "https://localhost:8080/"
        },
        "id": "Mz5IRl6l79j0",
        "outputId": "1d3113cf-65e2-4a39-f4ca-d72680614392"
      },
      "execution_count": null,
      "outputs": [
        {
          "output_type": "stream",
          "name": "stdout",
          "text": [
            "      Name  Age  Country\n",
            "0   Nathan   30    Ghana\n",
            "1  Cornell   25  Germany\n",
            "2  Mahmoud   20      USA\n",
            "3    Angie   32  Germany\n",
            "4     Rose   25       UK\n",
            "5      Jay   18  Germany\n"
          ]
        }
      ]
    },
    {
      "cell_type": "markdown",
      "source": [
        "#####Basic Plotting with Matplotlib\n",
        "We'll start with a simple bar plot to visualize the ages of BIN students from different countries.\n"
      ],
      "metadata": {
        "id": "fH1fvWm_9gFs"
      }
    },
    {
      "cell_type": "code",
      "source": [
        "#Bar Plot: age by Country\n",
        "\n",
        "plt.figure(figsize=(10, 6))\n",
        "plt.bar(df[\"Country\"], df[\"Age\"], color='skyblue')\n",
        "plt.xlabel(\"Country\")\n",
        "plt.ylabel(\"Age\")\n",
        "plt.title(\"Age of Students by Country\")\n",
        "plt.show()\n"
      ],
      "metadata": {
        "colab": {
          "base_uri": "https://localhost:8080/",
          "height": 564
        },
        "id": "zYOMDj-q9p71",
        "outputId": "1c95f668-acd2-4387-deab-267b997edce8"
      },
      "execution_count": null,
      "outputs": [
        {
          "output_type": "display_data",
          "data": {
            "text/plain": [
              "<Figure size 1000x600 with 1 Axes>"
            ],
            "image/png": "[encoded data removed]"
          },
          "metadata": {}
        }
      ]
    },
    {
      "cell_type": "code",
      "source": [
        "# Pie chart of the number of students per country\n",
        "BIN_df['Age'].value_counts().plot(kind='pie', title='Students per age', autopct='%1.1f%%')\n",
        "plt.ylabel('')  # Hide the y-label\n",
        "plt.show()"
      ],
      "metadata": {
        "colab": {
          "base_uri": "https://localhost:8080/",
          "height": 428
        },
        "id": "dnCduqbWKCsE",
        "outputId": "37aa2663-31ca-417c-c029-aae4b577c5cc"
      },
      "execution_count": null,
      "outputs": [
        {
          "output_type": "display_data",
          "data": {
            "text/plain": [
              "<Figure size 640x480 with 1 Axes>"
            ],
            "image/png": "[encoded data removed]"
          },
          "metadata": {}
        }
      ]
    },
    {
      "cell_type": "code",
      "source": [
        "# Create a bar plot using Seaborn\n",
        "plt.figure(figsize=(10, 6))\n",
        "sns.barplot(x=\"Country\", y=\"Age\", data=df, palette=\"viridis\")\n",
        "plt.xlabel(\"Country\")\n",
        "plt.ylabel(\"Age\")\n",
        "plt.title(\"Age of Students by Country\")\n",
        "plt.show()\n"
      ],
      "metadata": {
        "colab": {
          "base_uri": "https://localhost:8080/",
          "height": 237
        },
        "id": "ZXJGBZc96Wzt",
        "outputId": "00e4fd7a-e931-4cc0-c6db-07f0490dfa4e"
      },
      "execution_count": null,
      "outputs": [
        {
          "output_type": "error",
          "ename": "NameError",
          "evalue": "name 'sns' is not defined",
          "traceback": [
            "\u001b[0;31m---------------------------------------------------------------------------\u001b[0m",
            "\u001b[0;31mNameError\u001b[0m                                 Traceback (most recent call last)",
            "\u001b[0;32m<ipython-input-67-04063caec073>\u001b[0m in \u001b[0;36m<cell line: 3>\u001b[0;34m()\u001b[0m\n\u001b[1;32m      1\u001b[0m \u001b[0;31m# Create a bar plot using Seaborn\u001b[0m\u001b[0;34m\u001b[0m\u001b[0;34m\u001b[0m\u001b[0m\n\u001b[1;32m      2\u001b[0m \u001b[0mplt\u001b[0m\u001b[0;34m.\u001b[0m\u001b[0mfigure\u001b[0m\u001b[0;34m(\u001b[0m\u001b[0mfigsize\u001b[0m\u001b[0;34m=\u001b[0m\u001b[0;34m(\u001b[0m\u001b[0;36m10\u001b[0m\u001b[0;34m,\u001b[0m \u001b[0;36m6\u001b[0m\u001b[0;34m)\u001b[0m\u001b[0;34m)\u001b[0m\u001b[0;34m\u001b[0m\u001b[0;34m\u001b[0m\u001b[0m\n\u001b[0;32m----> 3\u001b[0;31m \u001b[0msns\u001b[0m\u001b[0;34m.\u001b[0m\u001b[0mbarplot\u001b[0m\u001b[0;34m(\u001b[0m\u001b[0mx\u001b[0m\u001b[0;34m=\u001b[0m\u001b[0;34m\"Country\"\u001b[0m\u001b[0;34m,\u001b[0m \u001b[0my\u001b[0m\u001b[0;34m=\u001b[0m\u001b[0;34m\"Age\"\u001b[0m\u001b[0;34m,\u001b[0m \u001b[0mdata\u001b[0m\u001b[0;34m=\u001b[0m\u001b[0mdf\u001b[0m\u001b[0;34m,\u001b[0m \u001b[0mpalette\u001b[0m\u001b[0;34m=\u001b[0m\u001b[0;34m\"viridis\"\u001b[0m\u001b[0;34m)\u001b[0m\u001b[0;34m\u001b[0m\u001b[0;34m\u001b[0m\u001b[0m\n\u001b[0m\u001b[1;32m      4\u001b[0m \u001b[0mplt\u001b[0m\u001b[0;34m.\u001b[0m\u001b[0mxlabel\u001b[0m\u001b[0;34m(\u001b[0m\u001b[0;34m\"Country\"\u001b[0m\u001b[0;34m)\u001b[0m\u001b[0;34m\u001b[0m\u001b[0;34m\u001b[0m\u001b[0m\n\u001b[1;32m      5\u001b[0m \u001b[0mplt\u001b[0m\u001b[0;34m.\u001b[0m\u001b[0mylabel\u001b[0m\u001b[0;34m(\u001b[0m\u001b[0;34m\"Age\"\u001b[0m\u001b[0;34m)\u001b[0m\u001b[0;34m\u001b[0m\u001b[0;34m\u001b[0m\u001b[0m\n",
            "\u001b[0;31mNameError\u001b[0m: name 'sns' is not defined"
          ]
        },
        {
          "output_type": "display_data",
          "data": {
            "text/plain": [
              "<Figure size 1000x600 with 0 Axes>"
            ]
          },
          "metadata": {}
        }
      ]
    },
    {
      "cell_type": "markdown",
      "source": [
        "You can customize the appearance of your plots by adding labels, changing colors, and adjusting the size."
      ],
      "metadata": {
        "id": "IfxZjG3PBxPk"
      }
    },
    {
      "cell_type": "code",
      "source": [
        "# Customizing the bar plot with labels and colors\n",
        "plt.figure(figsize=(10, 6))\n",
        "sns.barplot(x=\"Country\", y=\"Age\", data=df, palette=\"coolwarm\")\n",
        "plt.xlabel(\"Country\", fontsize=14)\n",
        "plt.ylabel(\"Age\", fontsize=14)\n",
        "plt.title(\"Age of Students by Country\", fontsize=16)\n",
        "plt.xticks(rotation=45)\n",
        "plt.show()\n"
      ],
      "metadata": {
        "colab": {
          "base_uri": "https://localhost:8080/",
          "height": 703
        },
        "id": "vl7OwQ-pBvVD",
        "outputId": "c199ce62-3eb4-46b1-a6e7-25006dbb0812"
      },
      "execution_count": null,
      "outputs": [
        {
          "output_type": "stream",
          "name": "stderr",
          "text": [
            "<ipython-input-10-2a7d5b16d73f>:3: FutureWarning: \n",
            "\n",
            "Passing `palette` without assigning `hue` is deprecated and will be removed in v0.14.0. Assign the `x` variable to `hue` and set `legend=False` for the same effect.\n",
            "\n",
            "  sns.barplot(x=\"Country\", y=\"Age\", data=df, palette=\"coolwarm\")\n"
          ]
        },
        {
          "output_type": "display_data",
          "data": {
            "text/plain": [
              "<Figure size 1000x600 with 1 Axes>"
            ],
            "image/png": "[encoded data removed]"
          },
          "metadata": {}
        }
      ]
    },
    {
      "cell_type": "code",
      "source": [
        "import numpy as np\n",
        "import matplotlib.pyplot as plt\n",
        "\n",
        "# Create a NumPy array of numbers from 0 to 10\n",
        "x = np.linspace(0, 10, 100)\n",
        "\n",
        "# Compute the sine of each number\n",
        "y = np.sin(x)\n",
        "\n",
        "# Create a plot\n",
        "plt.plot(x, y)\n",
        "plt.xlabel('X Axis')\n",
        "plt.ylabel('Y Axis')\n",
        "plt.title('Sine Wave')\n",
        "plt.show()\n"
      ],
      "metadata": {
        "colab": {
          "base_uri": "https://localhost:8080/",
          "height": 472
        },
        "id": "tpGoMwq55ijq",
        "outputId": "eef7a55e-aa51-42e9-93dd-47c0d92e288e"
      },
      "execution_count": null,
      "outputs": [
        {
          "output_type": "display_data",
          "data": {
            "text/plain": [
              "<Figure size 640x480 with 1 Axes>"
            ],
            "image/png": "[encoded data removed]"
          },
          "metadata": {}
        }
      ]
    }
  ]
}